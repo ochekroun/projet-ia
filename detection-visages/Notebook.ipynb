{
 "cells": [
  {
   "cell_type": "markdown",
   "metadata": {},
   "source": [
    "<a href=\"https://colab.research.google.com/github/ochekroun/projet-ia/blob/master/detection-visages/Notebook.ipynb\" target=\"_parent\"><img src=\"https://colab.research.google.com/assets/colab-badge.svg\" alt=\"Open In Colab\"/></a>"
   ]
  },
  {
   "cell_type": "code",
   "execution_count": null,
   "metadata": {},
   "outputs": [],
   "source": [
    "# Pour Colab exécuter cette cellule et utilise un runtime GPU\n",
    "# !pip install face_recognition"
   ]
  },
  {
   "cell_type": "code",
   "execution_count": null,
   "metadata": {},
   "outputs": [],
   "source": [
    "import requests\n",
    "import tarfile\n",
    "import os\n",
    "\n",
    "download_file = True\n",
    "\n",
    "if download_file:\n",
    "    # Fonction pour télécharger un fichier\n",
    "    def download_file(url, local_filename):\n",
    "        with requests.get(url, stream=True) as r:\n",
    "            r.raise_for_status()\n",
    "            with open(local_filename, 'wb') as f:\n",
    "                for chunk in r.iter_content(chunk_size=8192):\n",
    "                    if chunk:  # filter out keep-alive new chunks\n",
    "                        f.write(chunk)\n",
    "        return local_filename\n",
    "\n",
    "    # Fonction pour décompresser un fichier tar.gz\n",
    "    def extract_tar_gz(tar_gz_path, extract_path):\n",
    "        with tarfile.open(tar_gz_path, 'r:gz') as tar:\n",
    "            tar.extractall(path=extract_path)\n",
    "\n",
    "    # URL du fichier tar.gz à télécharger\n",
    "    url = 'https://olivierchekroun.blob.core.windows.net/documents/projet-ia/images.tar.gz'\n",
    "\n",
    "    # Chemin local pour enregistrer le fichier téléchargé\n",
    "    local_filename = 'images.tar.gz'\n",
    "\n",
    "    # Chemin où décompresser le fichier\n",
    "    extract_path = '.'\n",
    "\n",
    "    # Créer le dossier de décompression s'il n'existe pas\n",
    "    os.makedirs(extract_path, exist_ok=True)\n",
    "\n",
    "    # Télécharger le fichier\n",
    "    download_file(url, local_filename)\n",
    "\n",
    "    # Décompresser le fichier\n",
    "    extract_tar_gz(local_filename, extract_path)\n",
    "\n",
    "    print(f\"Fichier téléchargé et décompressé dans {extract_path}\")"
   ]
  },
  {
   "cell_type": "markdown",
   "metadata": {},
   "source": [
    "### Encondings des visage à détecter"
   ]
  },
  {
   "cell_type": "code",
   "execution_count": null,
   "metadata": {},
   "outputs": [],
   "source": [
    "import os\n",
    "from PIL import Image, ImageDraw\n",
    "from IPython.display import display\n",
    "import face_recognition\n",
    "import numpy as np\n",
    "\n",
    "directory_path = './images/faces'\n",
    "# List all files and directories\n",
    "known_face_encodings = []\n",
    "known_face_names = []\n",
    "for entry in os.listdir(directory_path):\n",
    "    full_path = os.path.join(directory_path, entry)\n",
    "    print(full_path)\n",
    "    # The program we will be finding faces on the example below\n",
    "    pil_im = Image.open(full_path)\n",
    "    display(pil_im)    \n",
    "    current_image = face_recognition.load_image_file(full_path)\n",
    "    current_encodings = face_recognition.face_encodings(current_image)\n",
    "    if(len(current_encodings)):\n",
    "        face_encoding = current_encodings[0]\n",
    "        known_face_encodings.append(face_encoding)\n",
    "        file_name_without_extension = os.path.splitext(os.path.basename(full_path))[0]\n",
    "        known_face_names.append(file_name_without_extension)\n",
    "\n",
    "\n",
    "print(known_face_names)        "
   ]
  },
  {
   "cell_type": "markdown",
   "metadata": {},
   "source": [
    "### Détection des visages et identifications"
   ]
  },
  {
   "cell_type": "code",
   "execution_count": null,
   "metadata": {},
   "outputs": [],
   "source": [
    "# Load an image with an unknown face\n",
    "unknown_image = face_recognition.load_image_file(\"images/formationia-membres.jpg\")\n",
    "\n",
    "# Find all the faces and face encodings in the unknown image\n",
    "face_locations = face_recognition.face_locations(unknown_image)\n",
    "face_encodings = face_recognition.face_encodings(unknown_image, face_locations)\n",
    "\n",
    "# Convert the image to a PIL-format image so that we can draw on top of it with the Pillow library\n",
    "# See http://pillow.readthedocs.io/ for more about PIL/Pillow\n",
    "pil_image = Image.fromarray(unknown_image)\n",
    "# Create a Pillow ImageDraw Draw instance to draw with\n",
    "draw = ImageDraw.Draw(pil_image)\n",
    "\n",
    "# Loop through each face found in the unknown image\n",
    "for (top, right, bottom, left), face_encoding in zip(face_locations, face_encodings):\n",
    "    # See if the face is a match for the known face(s)\n",
    "    matches = face_recognition.compare_faces(known_face_encodings, face_encoding)\n",
    "\n",
    "    name = \"Unknown\"\n",
    "\n",
    "    # Or instead, use the known face with the smallest distance to the new face\n",
    "    face_distances = face_recognition.face_distance(known_face_encodings, face_encoding)\n",
    "    best_match_index = np.argmin(face_distances)\n",
    "    if matches[best_match_index]:\n",
    "        name = known_face_names[best_match_index]\n",
    "\n",
    "    # Draw a box around the face using the Pillow module\n",
    "    draw.rectangle(((left, top), (right, bottom)), outline=(0, 0, 255))\n",
    "\n",
    "    # Draw a label with a name below the face\n",
    "    (left, top, right, bottom) = draw.textbbox(text=name,xy=(left,top)) \n",
    "    textwidth, textheight = (right - left, bottom - top)\n",
    "\n",
    "    draw.rectangle(((left, bottom - textheight - 25), (right, bottom - 20)), fill=(0, 0, 255), outline=(0, 0, 255))\n",
    "    draw.text((left, bottom - textheight - 25), name, fill=(255, 255, 255, 255))\n",
    "\n",
    "\n",
    "# Remove the drawing library from memory as per the Pillow docs\n",
    "del draw\n",
    "\n",
    "# Display the resulting image\n",
    "display(pil_image)"
   ]
  }
 ],
 "metadata": {
  "kernelspec": {
   "display_name": "projet-ia",
   "language": "python",
   "name": "python3"
  },
  "language_info": {
   "codemirror_mode": {
    "name": "ipython",
    "version": 3
   },
   "file_extension": ".py",
   "mimetype": "text/x-python",
   "name": "python",
   "nbconvert_exporter": "python",
   "pygments_lexer": "ipython3",
   "version": "3.12.4"
  }
 },
 "nbformat": 4,
 "nbformat_minor": 2
}
